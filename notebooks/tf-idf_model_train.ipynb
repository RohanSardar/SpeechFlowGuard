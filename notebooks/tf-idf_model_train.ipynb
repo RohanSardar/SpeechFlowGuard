{
 "cells": [
  {
   "cell_type": "markdown",
   "id": "bd7acc4a",
   "metadata": {},
   "source": [
    "## Imports"
   ]
  },
  {
   "cell_type": "code",
   "execution_count": 1,
   "id": "e8c63e24",
   "metadata": {},
   "outputs": [],
   "source": [
    "import pandas as pd\n",
    "import dill\n",
    "from sklearn.feature_extraction.text import TfidfVectorizer\n",
    "from sklearn.linear_model import LogisticRegression\n",
    "from sklearn.metrics import accuracy_score"
   ]
  },
  {
   "cell_type": "markdown",
   "id": "055ddf6e",
   "metadata": {},
   "source": [
    "## Reading the cleaned dataset"
   ]
  },
  {
   "cell_type": "code",
   "execution_count": 2,
   "id": "7cb98c4b",
   "metadata": {},
   "outputs": [],
   "source": [
    "data = pd.read_csv('../data/data_processed.csv')"
   ]
  },
  {
   "cell_type": "markdown",
   "id": "e906b32c",
   "metadata": {},
   "source": [
    "## Vectorize and save TF-IDF vectorizer"
   ]
  },
  {
   "cell_type": "code",
   "execution_count": 3,
   "id": "1fb75bb5",
   "metadata": {},
   "outputs": [],
   "source": [
    "vectorizer = TfidfVectorizer(max_features=4096, stop_words='english')"
   ]
  },
  {
   "cell_type": "code",
   "execution_count": 4,
   "id": "415759d7",
   "metadata": {},
   "outputs": [
    {
     "name": "stdout",
     "output_type": "stream",
     "text": [
      "<class 'pandas.core.frame.DataFrame'>\n",
      "RangeIndex: 159571 entries, 0 to 159570\n",
      "Data columns (total 7 columns):\n",
      " #   Column         Non-Null Count   Dtype \n",
      "---  ------         --------------   ----- \n",
      " 0   comment_text   159564 non-null  object\n",
      " 1   toxic          159571 non-null  int64 \n",
      " 2   severe_toxic   159571 non-null  int64 \n",
      " 3   obscene        159571 non-null  int64 \n",
      " 4   threat         159571 non-null  int64 \n",
      " 5   insult         159571 non-null  int64 \n",
      " 6   identity_hate  159571 non-null  int64 \n",
      "dtypes: int64(6), object(1)\n",
      "memory usage: 8.5+ MB\n"
     ]
    }
   ],
   "source": [
    "data.info()"
   ]
  },
  {
   "cell_type": "code",
   "execution_count": 5,
   "id": "f4518de9",
   "metadata": {},
   "outputs": [],
   "source": [
    "data = data.dropna()"
   ]
  },
  {
   "cell_type": "code",
   "execution_count": 6,
   "id": "dba1e732",
   "metadata": {},
   "outputs": [],
   "source": [
    "X = data['comment_text']\n",
    "targets = data.drop('comment_text', axis=1)"
   ]
  },
  {
   "cell_type": "code",
   "execution_count": 7,
   "id": "5858bcfc",
   "metadata": {},
   "outputs": [
    {
     "data": {
      "text/plain": [
       "<Compressed Sparse Row sparse matrix of dtype 'float64'\n",
       "\twith 2982063 stored elements and shape (159564, 4096)>"
      ]
     },
     "execution_count": 7,
     "metadata": {},
     "output_type": "execute_result"
    }
   ],
   "source": [
    "tfidf_data = vectorizer.fit_transform(X)\n",
    "tfidf_data"
   ]
  },
  {
   "cell_type": "code",
   "execution_count": 8,
   "id": "b1179c4c",
   "metadata": {},
   "outputs": [],
   "source": [
    "with open('../models/tf-idf_vectorizer.pkl', 'wb') as f:\n",
    "    dill.dump(vectorizer, f)"
   ]
  },
  {
   "cell_type": "markdown",
   "id": "1957c459",
   "metadata": {},
   "source": [
    "## Model training"
   ]
  },
  {
   "cell_type": "code",
   "execution_count": 9,
   "id": "d3ba965e",
   "metadata": {},
   "outputs": [
    {
     "name": "stdout",
     "output_type": "stream",
     "text": [
      "\n",
      "Training model for: toxic\n",
      "Training Accuracy: 0.9278283322052593\n",
      "\n",
      "Training model for: severe_toxic\n",
      "Training Accuracy: 0.9689528966433532\n",
      "\n",
      "Training model for: obscene\n",
      "Training Accuracy: 0.9638013587024642\n",
      "\n",
      "Training model for: threat\n",
      "Training Accuracy: 0.9857925346569402\n",
      "\n",
      "Training model for: insult\n",
      "Training Accuracy: 0.9467047704996114\n",
      "\n",
      "Training model for: identity_hate\n",
      "Training Accuracy: 0.9599345717079041\n"
     ]
    }
   ],
   "source": [
    "models = {}\n",
    "\n",
    "for target in targets.columns:\n",
    "    model = LogisticRegression(class_weight='balanced', max_iter=500, C=1.6)\n",
    "    print(f'\\nTraining model for: {target}')\n",
    "    y = data[target]\n",
    "    model.fit(tfidf_data, y)\n",
    "    models[target] = model  \n",
    "    y_pred = model.predict(tfidf_data)\n",
    "    print(f'Training Accuracy: {accuracy_score(y, y_pred)}')"
   ]
  },
  {
   "cell_type": "code",
   "execution_count": 10,
   "id": "862dcde9",
   "metadata": {},
   "outputs": [
    {
     "data": {
      "text/plain": [
       "{'toxic': LogisticRegression(C=1.6, class_weight='balanced', max_iter=500),\n",
       " 'severe_toxic': LogisticRegression(C=1.6, class_weight='balanced', max_iter=500),\n",
       " 'obscene': LogisticRegression(C=1.6, class_weight='balanced', max_iter=500),\n",
       " 'threat': LogisticRegression(C=1.6, class_weight='balanced', max_iter=500),\n",
       " 'insult': LogisticRegression(C=1.6, class_weight='balanced', max_iter=500),\n",
       " 'identity_hate': LogisticRegression(C=1.6, class_weight='balanced', max_iter=500)}"
      ]
     },
     "execution_count": 10,
     "metadata": {},
     "output_type": "execute_result"
    }
   ],
   "source": [
    "models"
   ]
  },
  {
   "cell_type": "markdown",
   "id": "5ca51b4a",
   "metadata": {},
   "source": [
    "## Save the classifier model"
   ]
  },
  {
   "cell_type": "code",
   "execution_count": 11,
   "id": "1cb73a7a",
   "metadata": {},
   "outputs": [],
   "source": [
    "with open('../models/classifier.pkl', 'wb') as f:\n",
    "    dill.dump(models, f)"
   ]
  }
 ],
 "metadata": {
  "kernelspec": {
   "display_name": "Python 3",
   "language": "python",
   "name": "python3"
  },
  "language_info": {
   "codemirror_mode": {
    "name": "ipython",
    "version": 3
   },
   "file_extension": ".py",
   "mimetype": "text/x-python",
   "name": "python",
   "nbconvert_exporter": "python",
   "pygments_lexer": "ipython3",
   "version": "3.12.0"
  }
 },
 "nbformat": 4,
 "nbformat_minor": 5
}
